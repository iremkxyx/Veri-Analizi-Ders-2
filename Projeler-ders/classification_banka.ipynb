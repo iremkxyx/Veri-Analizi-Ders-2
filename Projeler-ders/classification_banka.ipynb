{
 "cells": [
  {
   "cell_type": "code",
   "execution_count": null,
   "id": "ec1e58a0",
   "metadata": {},
   "outputs": [],
   "source": [
    "import pandas as pd\n",
    "import numpy as np\n",
    "from sklearn.feature_extraction.text import CountVectorizer\n",
    "from sklearn.ensemble import RandomForestClassifier\n",
    "\n",
    "from sklearn.model_selection import train_test_split"
   ]
  },
  {
   "cell_type": "code",
   "execution_count": null,
   "id": "29885335",
   "metadata": {},
   "outputs": [],
   "source": [
    "df=pd.read_csv(r\"C:\\Users\\Lenovo\\Veri-Analizi-2\\Projeler-ders\\datasets\\banka.csv\")"
   ]
  },
  {
   "cell_type": "code",
   "execution_count": 4,
   "id": "48d72a1c",
   "metadata": {},
   "outputs": [
    {
     "data": {
      "text/html": [
       "<div>\n",
       "<style scoped>\n",
       "    .dataframe tbody tr th:only-of-type {\n",
       "        vertical-align: middle;\n",
       "    }\n",
       "\n",
       "    .dataframe tbody tr th {\n",
       "        vertical-align: top;\n",
       "    }\n",
       "\n",
       "    .dataframe thead th {\n",
       "        text-align: right;\n",
       "    }\n",
       "</style>\n",
       "<table border=\"1\" class=\"dataframe\">\n",
       "  <thead>\n",
       "    <tr style=\"text-align: right;\">\n",
       "      <th></th>\n",
       "      <th>Unnamed: 0</th>\n",
       "      <th>sorgu</th>\n",
       "      <th>label</th>\n",
       "      <th>le</th>\n",
       "    </tr>\n",
       "  </thead>\n",
       "  <tbody>\n",
       "    <tr>\n",
       "      <th>0</th>\n",
       "      <td>0</td>\n",
       "      <td>kredi kartımı kaybettim</td>\n",
       "      <td>kartkayip</td>\n",
       "      <td>1</td>\n",
       "    </tr>\n",
       "    <tr>\n",
       "      <th>1</th>\n",
       "      <td>1</td>\n",
       "      <td>banka kartımı kaybettim</td>\n",
       "      <td>kartkayip</td>\n",
       "      <td>1</td>\n",
       "    </tr>\n",
       "    <tr>\n",
       "      <th>2</th>\n",
       "      <td>2</td>\n",
       "      <td>kredi kartımı bulamıyorum</td>\n",
       "      <td>kartkayip</td>\n",
       "      <td>1</td>\n",
       "    </tr>\n",
       "  </tbody>\n",
       "</table>\n",
       "</div>"
      ],
      "text/plain": [
       "   Unnamed: 0                      sorgu      label  le\n",
       "0           0    kredi kartımı kaybettim  kartkayip   1\n",
       "1           1    banka kartımı kaybettim  kartkayip   1\n",
       "2           2  kredi kartımı bulamıyorum  kartkayip   1"
      ]
     },
     "execution_count": 4,
     "metadata": {},
     "output_type": "execute_result"
    }
   ],
   "source": [
    "df.head(3)"
   ]
  },
  {
   "cell_type": "code",
   "execution_count": 5,
   "id": "ffa48b58",
   "metadata": {},
   "outputs": [],
   "source": [
    "df=df[[\"sorgu\",\"label\"]]"
   ]
  },
  {
   "cell_type": "code",
   "execution_count": 6,
   "id": "f0112436",
   "metadata": {},
   "outputs": [
    {
     "data": {
      "text/html": [
       "<div>\n",
       "<style scoped>\n",
       "    .dataframe tbody tr th:only-of-type {\n",
       "        vertical-align: middle;\n",
       "    }\n",
       "\n",
       "    .dataframe tbody tr th {\n",
       "        vertical-align: top;\n",
       "    }\n",
       "\n",
       "    .dataframe thead th {\n",
       "        text-align: right;\n",
       "    }\n",
       "</style>\n",
       "<table border=\"1\" class=\"dataframe\">\n",
       "  <thead>\n",
       "    <tr style=\"text-align: right;\">\n",
       "      <th></th>\n",
       "      <th>sorgu</th>\n",
       "      <th>label</th>\n",
       "    </tr>\n",
       "  </thead>\n",
       "  <tbody>\n",
       "    <tr>\n",
       "      <th>0</th>\n",
       "      <td>kredi kartımı kaybettim</td>\n",
       "      <td>kartkayip</td>\n",
       "    </tr>\n",
       "    <tr>\n",
       "      <th>1</th>\n",
       "      <td>banka kartımı kaybettim</td>\n",
       "      <td>kartkayip</td>\n",
       "    </tr>\n",
       "    <tr>\n",
       "      <th>2</th>\n",
       "      <td>kredi kartımı bulamıyorum</td>\n",
       "      <td>kartkayip</td>\n",
       "    </tr>\n",
       "  </tbody>\n",
       "</table>\n",
       "</div>"
      ],
      "text/plain": [
       "                       sorgu      label\n",
       "0    kredi kartımı kaybettim  kartkayip\n",
       "1    banka kartımı kaybettim  kartkayip\n",
       "2  kredi kartımı bulamıyorum  kartkayip"
      ]
     },
     "execution_count": 6,
     "metadata": {},
     "output_type": "execute_result"
    }
   ],
   "source": [
    "df.head(3)"
   ]
  },
  {
   "cell_type": "code",
   "execution_count": 7,
   "id": "9ffbbe23",
   "metadata": {},
   "outputs": [],
   "source": [
    "# preprocessing işlemleri\n",
    "#stopwords ü kaldırmak lazım, her kelimeyi küçük harf yapmak lazım  zaten öyle ama "
   ]
  },
  {
   "cell_type": "code",
   "execution_count": null,
   "id": "d6079d73",
   "metadata": {},
   "outputs": [],
   "source": [
    "stopwords=['fakat','lakin','ancak','acaba', 'ama', 'aslında', 'az', 'bazı', 'belki', 'biri', 'birkaç', 'birşey', 'biz', 'bu', 'çok', 'çünkü', 'da', 'daha', 'de', 'defa', 'diye', 'eğer', 'en', 'gibi', 'hem', 'hep', 'hepsi', 'her', 'hiç', 'için', 'ile', 'ise', 'kez', 'ki', 'kim', 'mı', 'mu', 'mü', 'nasıl', 'ne', 'neden', 'nerde', 'nerede', 'nereye', 'niçin', 'niye', 'o', 'sanki', 'şey', 'siz', 'şu', 'tüm', 've', 'veya', 'ya', 'yani']\n",
    "\n",
    "mesaj=input(\"Yapmak istediğiniz işlemi giriniz.\")\n",
    "\n",
    "mesajdf=pd.DataFrame({\"sorgu\":mesaj,\"label\":0},index=[42])\n",
    "\n",
    "df=pd.concat([df,mesajdf],ignore_index=True)\n",
    "\n",
    "for word in stopwords:\n",
    "    word= \" \" + word + \" \"\n",
    "    df[\"sorgu\"]= df[\"sorgu\"].str.replace(word,\" \")\n",
    "    \n",
    "cv=CountVectorizer(max_features=50)\n",
    "\n",
    "x=cv.fit_transform(df[\"sorgu\"]).toarray()\n",
    "y=df[\"label\"]\n",
    "\n",
    "tahmin=x[-1].copy()\n",
    "\n",
    "x=x[0:-1]\n",
    "y=y[0:-1]\n",
    "\n",
    "x_train,x_test,y_train,y_test=train_test_split(x,y,random_state=45,train_size=0.7)\n",
    "\n",
    "\n",
    "rf=RandomForestClassifier()\n",
    "model=rf.fit(x_train,y_train)\n",
    "skor= model.score(x_test,y_test)\n",
    "\n",
    "sonuc=model.predict([tahmin])\n",
    "\n",
    "print(\"Sonuc:\",sonuc,\"Skor:\",skor)"
   ]
  },
  {
   "cell_type": "code",
   "execution_count": null,
   "id": "9a106ac2",
   "metadata": {},
   "outputs": [],
   "source": []
  }
 ],
 "metadata": {
  "kernelspec": {
   "display_name": "Python 3 (ipykernel)",
   "language": "python",
   "name": "python3"
  },
  "language_info": {
   "codemirror_mode": {
    "name": "ipython",
    "version": 3
   },
   "file_extension": ".py",
   "mimetype": "text/x-python",
   "name": "python",
   "nbconvert_exporter": "python",
   "pygments_lexer": "ipython3",
   "version": "3.10.9"
  }
 },
 "nbformat": 4,
 "nbformat_minor": 5
}

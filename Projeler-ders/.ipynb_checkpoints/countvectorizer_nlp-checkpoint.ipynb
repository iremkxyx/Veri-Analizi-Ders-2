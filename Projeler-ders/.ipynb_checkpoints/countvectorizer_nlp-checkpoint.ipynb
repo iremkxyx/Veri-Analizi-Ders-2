{
 "cells": [
  {
   "cell_type": "code",
   "execution_count": 1,
   "id": "33dfbafe",
   "metadata": {},
   "outputs": [],
   "source": [
    "import pandas as pd\n",
    "import numpy as np\n",
    "from sklearn.feature_extraction.text import CountVectorizer"
   ]
  },
  {
   "cell_type": "code",
   "execution_count": 2,
   "id": "093e4bd0",
   "metadata": {},
   "outputs": [],
   "source": [
    "df=pd.DataFrame()"
   ]
  },
  {
   "cell_type": "code",
   "execution_count": 3,
   "id": "a1237a7f",
   "metadata": {},
   "outputs": [],
   "source": [
    "df['cumleler']=[\"ali bak\",\"ali ata bak\",\"bak ali bak\",\"ali güzel ata bak\",\"ışık ılık süt iç\",\"ışık süt iç\",\"iç ışık iç\"]"
   ]
  },
  {
   "cell_type": "code",
   "execution_count": 5,
   "id": "8422df61",
   "metadata": {},
   "outputs": [],
   "source": [
    "cv=CountVectorizer(max_features=5)"
   ]
  },
  {
   "cell_type": "code",
   "execution_count": 6,
   "id": "65c68820",
   "metadata": {},
   "outputs": [],
   "source": [
    "a=cv.fit_transform(df['cumleler'])"
   ]
  },
  {
   "cell_type": "code",
   "execution_count": 9,
   "id": "7d59b4ae",
   "metadata": {},
   "outputs": [],
   "source": [
    "x= a.toarray()"
   ]
  },
  {
   "cell_type": "code",
   "execution_count": 10,
   "id": "0ec20eb2",
   "metadata": {},
   "outputs": [
    {
     "data": {
      "text/plain": [
       "array(['ali', 'ata', 'bak', 'iç', 'ışık'], dtype=object)"
      ]
     },
     "execution_count": 10,
     "metadata": {},
     "output_type": "execute_result"
    }
   ],
   "source": [
    "cv.get_feature_names_out()"
   ]
  },
  {
   "cell_type": "code",
   "execution_count": null,
   "id": "19b2d805",
   "metadata": {},
   "outputs": [],
   "source": [
    "# stop words -- this is a , ne, mesela, gibi --boş kelimeler\n"
   ]
  }
 ],
 "metadata": {
  "kernelspec": {
   "display_name": "Python 3 (ipykernel)",
   "language": "python",
   "name": "python3"
  },
  "language_info": {
   "codemirror_mode": {
    "name": "ipython",
    "version": 3
   },
   "file_extension": ".py",
   "mimetype": "text/x-python",
   "name": "python",
   "nbconvert_exporter": "python",
   "pygments_lexer": "ipython3",
   "version": "3.10.9"
  }
 },
 "nbformat": 4,
 "nbformat_minor": 5
}

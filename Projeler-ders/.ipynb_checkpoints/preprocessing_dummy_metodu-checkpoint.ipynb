{
 "cells": [
  {
   "cell_type": "code",
   "execution_count": 21,
   "id": "24877b30",
   "metadata": {},
   "outputs": [],
   "source": [
    "import pandas as pd\n",
    "from sklearn.linear_model import LinearRegression"
   ]
  },
  {
   "cell_type": "code",
   "execution_count": 2,
   "id": "8dccc418",
   "metadata": {},
   "outputs": [],
   "source": [
    "df= pd.read_csv(r\"C:\\Users\\Lenovo\\Veri-Analizi-2\\Projeler-ders\\datasets\\audi.csv\")"
   ]
  },
  {
   "cell_type": "code",
   "execution_count": 3,
   "id": "56ffb15b",
   "metadata": {},
   "outputs": [
    {
     "data": {
      "text/html": [
       "<div>\n",
       "<style scoped>\n",
       "    .dataframe tbody tr th:only-of-type {\n",
       "        vertical-align: middle;\n",
       "    }\n",
       "\n",
       "    .dataframe tbody tr th {\n",
       "        vertical-align: top;\n",
       "    }\n",
       "\n",
       "    .dataframe thead th {\n",
       "        text-align: right;\n",
       "    }\n",
       "</style>\n",
       "<table border=\"1\" class=\"dataframe\">\n",
       "  <thead>\n",
       "    <tr style=\"text-align: right;\">\n",
       "      <th></th>\n",
       "      <th>index</th>\n",
       "      <th>Year</th>\n",
       "      <th>Type</th>\n",
       "      <th>Mileage(miles)</th>\n",
       "      <th>Engine</th>\n",
       "      <th>PS</th>\n",
       "      <th>Transmission</th>\n",
       "      <th>Fuel</th>\n",
       "      <th>Number_of_Owners</th>\n",
       "      <th>Price(£)</th>\n",
       "      <th>href</th>\n",
       "      <th>PPY</th>\n",
       "      <th>MileageRank</th>\n",
       "      <th>PriceRank</th>\n",
       "      <th>PPYRank</th>\n",
       "      <th>Score</th>\n",
       "    </tr>\n",
       "  </thead>\n",
       "  <tbody>\n",
       "    <tr>\n",
       "      <th>0</th>\n",
       "      <td>0</td>\n",
       "      <td>2018.0</td>\n",
       "      <td>Hatchback</td>\n",
       "      <td>44000.0</td>\n",
       "      <td>1.6L</td>\n",
       "      <td>114.398422</td>\n",
       "      <td>Manual</td>\n",
       "      <td>Diesel</td>\n",
       "      <td>1</td>\n",
       "      <td>14995.0</td>\n",
       "      <td>https://www.autotrader.co.uk/car-details/20221...</td>\n",
       "      <td>2499.166667</td>\n",
       "      <td>215</td>\n",
       "      <td>163</td>\n",
       "      <td>340</td>\n",
       "      <td>718</td>\n",
       "    </tr>\n",
       "    <tr>\n",
       "      <th>1</th>\n",
       "      <td>4</td>\n",
       "      <td>2016.0</td>\n",
       "      <td>Hatchback</td>\n",
       "      <td>42596.0</td>\n",
       "      <td>1.0L</td>\n",
       "      <td>93.688363</td>\n",
       "      <td>Manual</td>\n",
       "      <td>Petrol</td>\n",
       "      <td>3</td>\n",
       "      <td>10755.0</td>\n",
       "      <td>https://www.autotrader.co.uk/car-details/20221...</td>\n",
       "      <td>2688.750000</td>\n",
       "      <td>222</td>\n",
       "      <td>330</td>\n",
       "      <td>276</td>\n",
       "      <td>828</td>\n",
       "    </tr>\n",
       "    <tr>\n",
       "      <th>2</th>\n",
       "      <td>7</td>\n",
       "      <td>2015.0</td>\n",
       "      <td>Hatchback</td>\n",
       "      <td>42700.0</td>\n",
       "      <td>1.4L</td>\n",
       "      <td>123.274162</td>\n",
       "      <td>Manual</td>\n",
       "      <td>Petrol</td>\n",
       "      <td>2</td>\n",
       "      <td>10799.0</td>\n",
       "      <td>https://www.autotrader.co.uk/car-details/20221...</td>\n",
       "      <td>3599.666667</td>\n",
       "      <td>221</td>\n",
       "      <td>327</td>\n",
       "      <td>94</td>\n",
       "      <td>642</td>\n",
       "    </tr>\n",
       "  </tbody>\n",
       "</table>\n",
       "</div>"
      ],
      "text/plain": [
       "   index    Year       Type  Mileage(miles) Engine          PS Transmission  \\\n",
       "0      0  2018.0  Hatchback         44000.0   1.6L  114.398422       Manual   \n",
       "1      4  2016.0  Hatchback         42596.0   1.0L   93.688363       Manual   \n",
       "2      7  2015.0  Hatchback         42700.0   1.4L  123.274162       Manual   \n",
       "\n",
       "     Fuel  Number_of_Owners  Price(£)  \\\n",
       "0  Diesel                 1   14995.0   \n",
       "1  Petrol                 3   10755.0   \n",
       "2  Petrol                 2   10799.0   \n",
       "\n",
       "                                                href          PPY  \\\n",
       "0  https://www.autotrader.co.uk/car-details/20221...  2499.166667   \n",
       "1  https://www.autotrader.co.uk/car-details/20221...  2688.750000   \n",
       "2  https://www.autotrader.co.uk/car-details/20221...  3599.666667   \n",
       "\n",
       "   MileageRank  PriceRank  PPYRank  Score  \n",
       "0          215        163      340    718  \n",
       "1          222        330      276    828  \n",
       "2          221        327       94    642  "
      ]
     },
     "execution_count": 3,
     "metadata": {},
     "output_type": "execute_result"
    }
   ],
   "source": [
    "df.head(3)"
   ]
  },
  {
   "cell_type": "code",
   "execution_count": 4,
   "id": "2846bf7a",
   "metadata": {},
   "outputs": [],
   "source": [
    "#y=ax+b "
   ]
  },
  {
   "cell_type": "code",
   "execution_count": 6,
   "id": "1fb1aa94",
   "metadata": {},
   "outputs": [],
   "source": [
    "#gereksiz verileri çıkarıcaz index,range gibi bu adım preprocessing"
   ]
  },
  {
   "cell_type": "code",
   "execution_count": 8,
   "id": "6767387b",
   "metadata": {},
   "outputs": [],
   "source": [
    "df=df.drop(columns= [\"index\",\"href\",\"MileageRank\",\"PriceRank\",\"PPYRank\",\"Score\"])"
   ]
  },
  {
   "cell_type": "code",
   "execution_count": 9,
   "id": "54d81ff0",
   "metadata": {},
   "outputs": [
    {
     "data": {
      "text/html": [
       "<div>\n",
       "<style scoped>\n",
       "    .dataframe tbody tr th:only-of-type {\n",
       "        vertical-align: middle;\n",
       "    }\n",
       "\n",
       "    .dataframe tbody tr th {\n",
       "        vertical-align: top;\n",
       "    }\n",
       "\n",
       "    .dataframe thead th {\n",
       "        text-align: right;\n",
       "    }\n",
       "</style>\n",
       "<table border=\"1\" class=\"dataframe\">\n",
       "  <thead>\n",
       "    <tr style=\"text-align: right;\">\n",
       "      <th></th>\n",
       "      <th>Year</th>\n",
       "      <th>Type</th>\n",
       "      <th>Mileage(miles)</th>\n",
       "      <th>Engine</th>\n",
       "      <th>PS</th>\n",
       "      <th>Transmission</th>\n",
       "      <th>Fuel</th>\n",
       "      <th>Number_of_Owners</th>\n",
       "      <th>Price(£)</th>\n",
       "      <th>PPY</th>\n",
       "    </tr>\n",
       "  </thead>\n",
       "  <tbody>\n",
       "    <tr>\n",
       "      <th>0</th>\n",
       "      <td>2018.0</td>\n",
       "      <td>Hatchback</td>\n",
       "      <td>44000.0</td>\n",
       "      <td>1.6L</td>\n",
       "      <td>114.398422</td>\n",
       "      <td>Manual</td>\n",
       "      <td>Diesel</td>\n",
       "      <td>1</td>\n",
       "      <td>14995.0</td>\n",
       "      <td>2499.166667</td>\n",
       "    </tr>\n",
       "    <tr>\n",
       "      <th>1</th>\n",
       "      <td>2016.0</td>\n",
       "      <td>Hatchback</td>\n",
       "      <td>42596.0</td>\n",
       "      <td>1.0L</td>\n",
       "      <td>93.688363</td>\n",
       "      <td>Manual</td>\n",
       "      <td>Petrol</td>\n",
       "      <td>3</td>\n",
       "      <td>10755.0</td>\n",
       "      <td>2688.750000</td>\n",
       "    </tr>\n",
       "    <tr>\n",
       "      <th>2</th>\n",
       "      <td>2015.0</td>\n",
       "      <td>Hatchback</td>\n",
       "      <td>42700.0</td>\n",
       "      <td>1.4L</td>\n",
       "      <td>123.274162</td>\n",
       "      <td>Manual</td>\n",
       "      <td>Petrol</td>\n",
       "      <td>2</td>\n",
       "      <td>10799.0</td>\n",
       "      <td>3599.666667</td>\n",
       "    </tr>\n",
       "  </tbody>\n",
       "</table>\n",
       "</div>"
      ],
      "text/plain": [
       "     Year       Type  Mileage(miles) Engine          PS Transmission    Fuel  \\\n",
       "0  2018.0  Hatchback         44000.0   1.6L  114.398422       Manual  Diesel   \n",
       "1  2016.0  Hatchback         42596.0   1.0L   93.688363       Manual  Petrol   \n",
       "2  2015.0  Hatchback         42700.0   1.4L  123.274162       Manual  Petrol   \n",
       "\n",
       "   Number_of_Owners  Price(£)          PPY  \n",
       "0                 1   14995.0  2499.166667  \n",
       "1                 3   10755.0  2688.750000  \n",
       "2                 2   10799.0  3599.666667  "
      ]
     },
     "execution_count": 9,
     "metadata": {},
     "output_type": "execute_result"
    }
   ],
   "source": [
    "df.head(3)"
   ]
  },
  {
   "cell_type": "code",
   "execution_count": 10,
   "id": "8e96f869",
   "metadata": {},
   "outputs": [
    {
     "name": "stdout",
     "output_type": "stream",
     "text": [
      "<class 'pandas.core.frame.DataFrame'>\n",
      "RangeIndex: 471 entries, 0 to 470\n",
      "Data columns (total 10 columns):\n",
      " #   Column            Non-Null Count  Dtype  \n",
      "---  ------            --------------  -----  \n",
      " 0   Year              471 non-null    float64\n",
      " 1   Type              471 non-null    object \n",
      " 2   Mileage(miles)    471 non-null    float64\n",
      " 3   Engine            471 non-null    object \n",
      " 4   PS                471 non-null    float64\n",
      " 5   Transmission      471 non-null    object \n",
      " 6   Fuel              471 non-null    object \n",
      " 7   Number_of_Owners  471 non-null    int64  \n",
      " 8   Price(£)          471 non-null    float64\n",
      " 9   PPY               471 non-null    float64\n",
      "dtypes: float64(5), int64(1), object(4)\n",
      "memory usage: 36.9+ KB\n"
     ]
    }
   ],
   "source": [
    "df.info()"
   ]
  },
  {
   "cell_type": "code",
   "execution_count": 13,
   "id": "2ea5b389",
   "metadata": {},
   "outputs": [],
   "source": [
    "df.columns= [\"yil\",\"kasa\",\"mil\",\"motor\",\"ps\",\"vites\",\"yakit\",\"sahip\",\"fiyat\",\"ppy\"]"
   ]
  },
  {
   "cell_type": "code",
   "execution_count": 14,
   "id": "02e623db",
   "metadata": {},
   "outputs": [
    {
     "data": {
      "text/html": [
       "<div>\n",
       "<style scoped>\n",
       "    .dataframe tbody tr th:only-of-type {\n",
       "        vertical-align: middle;\n",
       "    }\n",
       "\n",
       "    .dataframe tbody tr th {\n",
       "        vertical-align: top;\n",
       "    }\n",
       "\n",
       "    .dataframe thead th {\n",
       "        text-align: right;\n",
       "    }\n",
       "</style>\n",
       "<table border=\"1\" class=\"dataframe\">\n",
       "  <thead>\n",
       "    <tr style=\"text-align: right;\">\n",
       "      <th></th>\n",
       "      <th>yil</th>\n",
       "      <th>kasa</th>\n",
       "      <th>mil</th>\n",
       "      <th>motor</th>\n",
       "      <th>ps</th>\n",
       "      <th>vites</th>\n",
       "      <th>yakit</th>\n",
       "      <th>sahip</th>\n",
       "      <th>fiyat</th>\n",
       "      <th>ppy</th>\n",
       "    </tr>\n",
       "  </thead>\n",
       "  <tbody>\n",
       "    <tr>\n",
       "      <th>0</th>\n",
       "      <td>2018.0</td>\n",
       "      <td>Hatchback</td>\n",
       "      <td>44000.0</td>\n",
       "      <td>1.6L</td>\n",
       "      <td>114.398422</td>\n",
       "      <td>Manual</td>\n",
       "      <td>Diesel</td>\n",
       "      <td>1</td>\n",
       "      <td>14995.0</td>\n",
       "      <td>2499.166667</td>\n",
       "    </tr>\n",
       "    <tr>\n",
       "      <th>1</th>\n",
       "      <td>2016.0</td>\n",
       "      <td>Hatchback</td>\n",
       "      <td>42596.0</td>\n",
       "      <td>1.0L</td>\n",
       "      <td>93.688363</td>\n",
       "      <td>Manual</td>\n",
       "      <td>Petrol</td>\n",
       "      <td>3</td>\n",
       "      <td>10755.0</td>\n",
       "      <td>2688.750000</td>\n",
       "    </tr>\n",
       "    <tr>\n",
       "      <th>2</th>\n",
       "      <td>2015.0</td>\n",
       "      <td>Hatchback</td>\n",
       "      <td>42700.0</td>\n",
       "      <td>1.4L</td>\n",
       "      <td>123.274162</td>\n",
       "      <td>Manual</td>\n",
       "      <td>Petrol</td>\n",
       "      <td>2</td>\n",
       "      <td>10799.0</td>\n",
       "      <td>3599.666667</td>\n",
       "    </tr>\n",
       "  </tbody>\n",
       "</table>\n",
       "</div>"
      ],
      "text/plain": [
       "      yil       kasa      mil motor          ps   vites   yakit  sahip  \\\n",
       "0  2018.0  Hatchback  44000.0  1.6L  114.398422  Manual  Diesel      1   \n",
       "1  2016.0  Hatchback  42596.0  1.0L   93.688363  Manual  Petrol      3   \n",
       "2  2015.0  Hatchback  42700.0  1.4L  123.274162  Manual  Petrol      2   \n",
       "\n",
       "     fiyat          ppy  \n",
       "0  14995.0  2499.166667  \n",
       "1  10755.0  2688.750000  \n",
       "2  10799.0  3599.666667  "
      ]
     },
     "execution_count": 14,
     "metadata": {},
     "output_type": "execute_result"
    }
   ],
   "source": [
    "df.head(3)"
   ]
  },
  {
   "cell_type": "code",
   "execution_count": 15,
   "id": "9d7105cb",
   "metadata": {},
   "outputs": [],
   "source": [
    "df[\"motor\"]=df[\"motor\"].str.replace(\"L\",\"\")"
   ]
  },
  {
   "cell_type": "code",
   "execution_count": 17,
   "id": "0ce16a27",
   "metadata": {},
   "outputs": [],
   "source": [
    "df[\"motor\"]= pd.to_numeric(df[\"motor\"])"
   ]
  },
  {
   "cell_type": "code",
   "execution_count": 28,
   "id": "e5542819",
   "metadata": {},
   "outputs": [
    {
     "data": {
      "text/html": [
       "<div>\n",
       "<style scoped>\n",
       "    .dataframe tbody tr th:only-of-type {\n",
       "        vertical-align: middle;\n",
       "    }\n",
       "\n",
       "    .dataframe tbody tr th {\n",
       "        vertical-align: top;\n",
       "    }\n",
       "\n",
       "    .dataframe thead th {\n",
       "        text-align: right;\n",
       "    }\n",
       "</style>\n",
       "<table border=\"1\" class=\"dataframe\">\n",
       "  <thead>\n",
       "    <tr style=\"text-align: right;\">\n",
       "      <th></th>\n",
       "      <th>yil</th>\n",
       "      <th>mil</th>\n",
       "      <th>motor</th>\n",
       "      <th>ps</th>\n",
       "      <th>sahip</th>\n",
       "      <th>fiyat</th>\n",
       "      <th>ppy</th>\n",
       "      <th>vites_Manual</th>\n",
       "      <th>yakit_Petrol</th>\n",
       "    </tr>\n",
       "  </thead>\n",
       "  <tbody>\n",
       "    <tr>\n",
       "      <th>0</th>\n",
       "      <td>2018.0</td>\n",
       "      <td>44000.0</td>\n",
       "      <td>1.6</td>\n",
       "      <td>114.398422</td>\n",
       "      <td>1</td>\n",
       "      <td>14995.0</td>\n",
       "      <td>2499.166667</td>\n",
       "      <td>1</td>\n",
       "      <td>0</td>\n",
       "    </tr>\n",
       "    <tr>\n",
       "      <th>1</th>\n",
       "      <td>2016.0</td>\n",
       "      <td>42596.0</td>\n",
       "      <td>1.0</td>\n",
       "      <td>93.688363</td>\n",
       "      <td>3</td>\n",
       "      <td>10755.0</td>\n",
       "      <td>2688.750000</td>\n",
       "      <td>1</td>\n",
       "      <td>1</td>\n",
       "    </tr>\n",
       "    <tr>\n",
       "      <th>2</th>\n",
       "      <td>2015.0</td>\n",
       "      <td>42700.0</td>\n",
       "      <td>1.4</td>\n",
       "      <td>123.274162</td>\n",
       "      <td>2</td>\n",
       "      <td>10799.0</td>\n",
       "      <td>3599.666667</td>\n",
       "      <td>1</td>\n",
       "      <td>1</td>\n",
       "    </tr>\n",
       "  </tbody>\n",
       "</table>\n",
       "</div>"
      ],
      "text/plain": [
       "      yil      mil  motor          ps  sahip    fiyat          ppy  \\\n",
       "0  2018.0  44000.0    1.6  114.398422      1  14995.0  2499.166667   \n",
       "1  2016.0  42596.0    1.0   93.688363      3  10755.0  2688.750000   \n",
       "2  2015.0  42700.0    1.4  123.274162      2  10799.0  3599.666667   \n",
       "\n",
       "   vites_Manual  yakit_Petrol  \n",
       "0             1             0  \n",
       "1             1             1  \n",
       "2             1             1  "
      ]
     },
     "execution_count": 28,
     "metadata": {},
     "output_type": "execute_result"
    }
   ],
   "source": [
    "df.head(3)"
   ]
  },
  {
   "cell_type": "code",
   "execution_count": 41,
   "id": "2fb1350b",
   "metadata": {
    "scrolled": true
   },
   "outputs": [],
   "source": [
    "# pd.get_dummies(df,columns=[\"kasa\",\"vites\",\"yakit\"],drop_first=True)"
   ]
  },
  {
   "cell_type": "code",
   "execution_count": 31,
   "id": "e53e9b05",
   "metadata": {},
   "outputs": [],
   "source": [
    "y=df[[\"fiyat\"]]\n",
    "x= df.drop(\"fiyat\",axis=1) #sütunlardan fiyatı sil geri kalan hepsi"
   ]
  },
  {
   "cell_type": "code",
   "execution_count": 32,
   "id": "b912d94d",
   "metadata": {},
   "outputs": [],
   "source": [
    "lm= LinearRegression()\n",
    "model= lm.fit(x,y)"
   ]
  },
  {
   "cell_type": "code",
   "execution_count": 34,
   "id": "304e5f07",
   "metadata": {},
   "outputs": [
    {
     "data": {
      "text/html": [
       "<div>\n",
       "<style scoped>\n",
       "    .dataframe tbody tr th:only-of-type {\n",
       "        vertical-align: middle;\n",
       "    }\n",
       "\n",
       "    .dataframe tbody tr th {\n",
       "        vertical-align: top;\n",
       "    }\n",
       "\n",
       "    .dataframe thead th {\n",
       "        text-align: right;\n",
       "    }\n",
       "</style>\n",
       "<table border=\"1\" class=\"dataframe\">\n",
       "  <thead>\n",
       "    <tr style=\"text-align: right;\">\n",
       "      <th></th>\n",
       "      <th>yil</th>\n",
       "      <th>mil</th>\n",
       "      <th>motor</th>\n",
       "      <th>ps</th>\n",
       "      <th>sahip</th>\n",
       "      <th>fiyat</th>\n",
       "      <th>ppy</th>\n",
       "      <th>vites_Manual</th>\n",
       "      <th>yakit_Petrol</th>\n",
       "    </tr>\n",
       "  </thead>\n",
       "  <tbody>\n",
       "    <tr>\n",
       "      <th>0</th>\n",
       "      <td>2018.0</td>\n",
       "      <td>44000.0</td>\n",
       "      <td>1.6</td>\n",
       "      <td>114.398422</td>\n",
       "      <td>1</td>\n",
       "      <td>14995.0</td>\n",
       "      <td>2499.166667</td>\n",
       "      <td>1</td>\n",
       "      <td>0</td>\n",
       "    </tr>\n",
       "    <tr>\n",
       "      <th>1</th>\n",
       "      <td>2016.0</td>\n",
       "      <td>42596.0</td>\n",
       "      <td>1.0</td>\n",
       "      <td>93.688363</td>\n",
       "      <td>3</td>\n",
       "      <td>10755.0</td>\n",
       "      <td>2688.750000</td>\n",
       "      <td>1</td>\n",
       "      <td>1</td>\n",
       "    </tr>\n",
       "    <tr>\n",
       "      <th>2</th>\n",
       "      <td>2015.0</td>\n",
       "      <td>42700.0</td>\n",
       "      <td>1.4</td>\n",
       "      <td>123.274162</td>\n",
       "      <td>2</td>\n",
       "      <td>10799.0</td>\n",
       "      <td>3599.666667</td>\n",
       "      <td>1</td>\n",
       "      <td>1</td>\n",
       "    </tr>\n",
       "  </tbody>\n",
       "</table>\n",
       "</div>"
      ],
      "text/plain": [
       "      yil      mil  motor          ps  sahip    fiyat          ppy  \\\n",
       "0  2018.0  44000.0    1.6  114.398422      1  14995.0  2499.166667   \n",
       "1  2016.0  42596.0    1.0   93.688363      3  10755.0  2688.750000   \n",
       "2  2015.0  42700.0    1.4  123.274162      2  10799.0  3599.666667   \n",
       "\n",
       "   vites_Manual  yakit_Petrol  \n",
       "0             1             0  \n",
       "1             1             1  \n",
       "2             1             1  "
      ]
     },
     "execution_count": 34,
     "metadata": {},
     "output_type": "execute_result"
    }
   ],
   "source": [
    "df.head(3)"
   ]
  },
  {
   "cell_type": "code",
   "execution_count": 44,
   "id": "213a05ee",
   "metadata": {},
   "outputs": [
    {
     "name": "stderr",
     "output_type": "stream",
     "text": [
      "C:\\Users\\Lenovo\\AppData\\Roaming\\Python\\Python310\\site-packages\\sklearn\\base.py:493: UserWarning: X does not have valid feature names, but LinearRegression was fitted with feature names\n",
      "  warnings.warn(\n"
     ]
    },
    {
     "data": {
      "text/plain": [
       "array([[13145.9080419]])"
      ]
     },
     "execution_count": 44,
     "metadata": {},
     "output_type": "execute_result"
    }
   ],
   "source": [
    "model.predict([[2017,30000,1.6,110,1,2600,0,1]])"
   ]
  },
  {
   "cell_type": "code",
   "execution_count": 45,
   "id": "d15bd31f",
   "metadata": {},
   "outputs": [
    {
     "data": {
      "text/plain": [
       "0.9595295772839713"
      ]
     },
     "execution_count": 45,
     "metadata": {},
     "output_type": "execute_result"
    }
   ],
   "source": [
    "model.score(x,y)"
   ]
  },
  {
   "cell_type": "code",
   "execution_count": null,
   "id": "ec845c4b",
   "metadata": {},
   "outputs": [],
   "source": []
  }
 ],
 "metadata": {
  "kernelspec": {
   "display_name": "Python 3 (ipykernel)",
   "language": "python",
   "name": "python3"
  },
  "language_info": {
   "codemirror_mode": {
    "name": "ipython",
    "version": 3
   },
   "file_extension": ".py",
   "mimetype": "text/x-python",
   "name": "python",
   "nbconvert_exporter": "python",
   "pygments_lexer": "ipython3",
   "version": "3.10.9"
  }
 },
 "nbformat": 4,
 "nbformat_minor": 5
}

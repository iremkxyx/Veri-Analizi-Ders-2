{
 "cells": [
  {
   "cell_type": "code",
   "execution_count": 1,
   "id": "7a29a3f1-53f1-4236-bf7b-35c9dcfd83a8",
   "metadata": {},
   "outputs": [
    {
     "name": "stdout",
     "output_type": "stream",
     "text": [
      "Defaulting to user installation because normal site-packages is not writeable\n",
      "Requirement already satisfied: pyarrow in c:\\users\\lenovo\\appdata\\roaming\\python\\python310\\site-packages (16.1.0)\n",
      "Requirement already satisfied: numpy>=1.16.6 in c:\\programdata\\anaconda3\\lib\\site-packages (from pyarrow) (1.23.5)\n"
     ]
    }
   ],
   "source": [
    "!pip install pyarrow"
   ]
  },
  {
   "cell_type": "code",
   "execution_count": 2,
   "id": "808c2bf0",
   "metadata": {
    "scrolled": true
   },
   "outputs": [
    {
     "name": "stdout",
     "output_type": "stream",
     "text": [
      "Defaulting to user installation because normal site-packages is not writeable\n",
      "Collecting fastparquet\n",
      "  Downloading fastparquet-2024.5.0-cp310-cp310-win_amd64.whl (672 kB)\n",
      "     ------------------------------------ 672.1/672.1 kB 268.2 kB/s eta 0:00:00\n",
      "Collecting cramjam>=2.3\n",
      "  Downloading cramjam-2.8.3-cp310-none-win_amd64.whl (1.6 MB)\n",
      "     ---------------------------------------- 1.6/1.6 MB 1.0 MB/s eta 0:00:00\n",
      "Requirement already satisfied: packaging in c:\\programdata\\anaconda3\\lib\\site-packages (from fastparquet) (22.0)\n",
      "Requirement already satisfied: pandas>=1.5.0 in c:\\programdata\\anaconda3\\lib\\site-packages (from fastparquet) (1.5.3)\n",
      "Requirement already satisfied: fsspec in c:\\programdata\\anaconda3\\lib\\site-packages (from fastparquet) (2022.11.0)\n",
      "Requirement already satisfied: numpy in c:\\programdata\\anaconda3\\lib\\site-packages (from fastparquet) (1.23.5)\n",
      "Requirement already satisfied: python-dateutil>=2.8.1 in c:\\programdata\\anaconda3\\lib\\site-packages (from pandas>=1.5.0->fastparquet) (2.8.2)\n",
      "Requirement already satisfied: pytz>=2020.1 in c:\\programdata\\anaconda3\\lib\\site-packages (from pandas>=1.5.0->fastparquet) (2022.7)\n",
      "Requirement already satisfied: six>=1.5 in c:\\programdata\\anaconda3\\lib\\site-packages (from python-dateutil>=2.8.1->pandas>=1.5.0->fastparquet) (1.16.0)\n",
      "Installing collected packages: cramjam, fastparquet\n",
      "Successfully installed cramjam-2.8.3 fastparquet-2024.5.0\n"
     ]
    }
   ],
   "source": [
    "!pip install fastparquet"
   ]
  },
  {
   "cell_type": "code",
   "execution_count": 3,
   "id": "6bf9e5fa-31c6-4808-a501-0d004cba7d4b",
   "metadata": {},
   "outputs": [],
   "source": [
    "import numpy as np"
   ]
  },
  {
   "cell_type": "code",
   "execution_count": 4,
   "id": "1ee69ee0-8e0c-4075-b113-0cc84434fe24",
   "metadata": {},
   "outputs": [],
   "source": [
    "import pandas as pd"
   ]
  },
  {
   "cell_type": "code",
   "execution_count": 5,
   "id": "d6fcef2c-de59-4b69-a226-b7ba20b4f484",
   "metadata": {},
   "outputs": [],
   "source": [
    "import time"
   ]
  },
  {
   "cell_type": "code",
   "execution_count": 6,
   "id": "b33e705f-4171-45de-a218-a4c7069622bd",
   "metadata": {},
   "outputs": [],
   "source": [
    "matris= np.random.randint(10,1000,size=(1000000,10))"
   ]
  },
  {
   "cell_type": "code",
   "execution_count": 7,
   "id": "f675f04a-247f-4802-972b-e2202e57d4be",
   "metadata": {},
   "outputs": [],
   "source": [
    "df=pd.DataFrame(matris)"
   ]
  },
  {
   "cell_type": "code",
   "execution_count": 8,
   "id": "d83feeea-4b2b-43d2-8798-8653c6158627",
   "metadata": {},
   "outputs": [
    {
     "name": "stdout",
     "output_type": "stream",
     "text": [
      "3.9717295169830322\n"
     ]
    }
   ],
   "source": [
    "baslangic=time.time()\n",
    "df.to_csv(\"test.csv\")\n",
    "bitis=time.time()\n",
    "csvt= bitis-baslangic\n",
    "print(csvt)"
   ]
  },
  {
   "cell_type": "code",
   "execution_count": 9,
   "id": "c01d14d4-612e-487a-8721-bf29797d6f2b",
   "metadata": {},
   "outputs": [
    {
     "name": "stdout",
     "output_type": "stream",
     "text": [
      "0.44687771797180176\n"
     ]
    }
   ],
   "source": [
    "sutunlar=np.arange(10).astype(\"str\")\n",
    "df=pd.DataFrame(matris,columns=sutunlar)\n",
    "baslangic=time.time()\n",
    "df.to_parquet(\"test.parquet\")\n",
    "bitis=time.time()\n",
    "parquett=bitis-baslangic\n",
    "print(parquett)"
   ]
  },
  {
   "cell_type": "code",
   "execution_count": null,
   "id": "cef178ae",
   "metadata": {},
   "outputs": [],
   "source": []
  }
 ],
 "metadata": {
  "kernelspec": {
   "display_name": "Python 3 (ipykernel)",
   "language": "python",
   "name": "python3"
  },
  "language_info": {
   "codemirror_mode": {
    "name": "ipython",
    "version": 3
   },
   "file_extension": ".py",
   "mimetype": "text/x-python",
   "name": "python",
   "nbconvert_exporter": "python",
   "pygments_lexer": "ipython3",
   "version": "3.10.9"
  }
 },
 "nbformat": 4,
 "nbformat_minor": 5
}

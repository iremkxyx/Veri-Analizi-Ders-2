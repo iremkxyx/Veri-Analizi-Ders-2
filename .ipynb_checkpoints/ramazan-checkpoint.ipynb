{
 "cells": [
  {
   "cell_type": "code",
   "execution_count": 28,
   "id": "d61bdd16",
   "metadata": {},
   "outputs": [],
   "source": [
    "import pandas as pd\n",
    "import numpy as np\n",
    "from datetime import datetime"
   ]
  },
  {
   "cell_type": "code",
   "execution_count": 77,
   "id": "81f11783",
   "metadata": {},
   "outputs": [],
   "source": [
    "def imsakiye(sehir):\n",
    "    ramazan=pd.read_html(f\"https://www.haberturk.com/ramazan/imsakiye/{sehir}\")[0]\n",
    "    #bayramları çıkardık\n",
    "    ramazan = ramazan.iloc[0:-1]\n",
    "    ramazan=ramazan.drop(26,axis=0)\n",
    "    pd.to_datetime(ramazan[\"Tarih\"])\n",
    "    return ramazan\n",
    "def iftarKalan(sehir):\n",
    "    df=imsakiye(sehir)\n",
    "    bugun=datetime.today().date().strftime(\"%Y-%m-%d\")\n",
    "    simdi= datetime.now().time().strftime(\"%H:%M\")\n",
    "    sehiriftar= trabzon[df[\"Tarih\"]==bugun][\"AKŞAM\"].values[0]\n",
    "    kalan= pd.Timedelta(pd.to_datetime(sehiriftar)-pd.to_datetime(simdi))\n",
    "    return kalan\n",
    "def Bugun(sehir):\n",
    "    df=imsakiye(sehir)\n",
    "    bugun=datetime.today().date().strftime(\"%Y-%m-%d\")\n",
    "    sehiriftar= df[df[\"Tarih\"]==bugun]\n",
    "    return sehiriftar\n"
   ]
  },
  {
   "cell_type": "code",
   "execution_count": 76,
   "id": "d25dabbc",
   "metadata": {
    "scrolled": true
   },
   "outputs": [
    {
     "ename": "IndexError",
     "evalue": "index 0 is out of bounds for axis 0 with size 0",
     "output_type": "error",
     "traceback": [
      "\u001b[1;31m---------------------------------------------------------------------------\u001b[0m",
      "\u001b[1;31mIndexError\u001b[0m                                Traceback (most recent call last)",
      "Cell \u001b[1;32mIn[76], line 1\u001b[0m\n\u001b[1;32m----> 1\u001b[0m \u001b[38;5;28mprint\u001b[39m(\u001b[43miftarKalan\u001b[49m\u001b[43m(\u001b[49m\u001b[38;5;124;43m\"\u001b[39;49m\u001b[38;5;124;43mTrabzon\u001b[39;49m\u001b[38;5;124;43m\"\u001b[39;49m\u001b[43m)\u001b[49m\u001b[38;5;241m.\u001b[39mseconds\u001b[38;5;241m/\u001b[39m\u001b[38;5;241m3600\u001b[39m)\n",
      "Cell \u001b[1;32mIn[71], line 12\u001b[0m, in \u001b[0;36miftarKalan\u001b[1;34m(sehir)\u001b[0m\n\u001b[0;32m     10\u001b[0m bugun\u001b[38;5;241m=\u001b[39mdatetime\u001b[38;5;241m.\u001b[39mtoday()\u001b[38;5;241m.\u001b[39mdate()\u001b[38;5;241m.\u001b[39mstrftime(\u001b[38;5;124m\"\u001b[39m\u001b[38;5;124m%\u001b[39m\u001b[38;5;124mY-\u001b[39m\u001b[38;5;124m%\u001b[39m\u001b[38;5;124mm-\u001b[39m\u001b[38;5;132;01m%d\u001b[39;00m\u001b[38;5;124m\"\u001b[39m)\n\u001b[0;32m     11\u001b[0m simdi\u001b[38;5;241m=\u001b[39m datetime\u001b[38;5;241m.\u001b[39mnow()\u001b[38;5;241m.\u001b[39mtime()\u001b[38;5;241m.\u001b[39mstrftime(\u001b[38;5;124m\"\u001b[39m\u001b[38;5;124m%\u001b[39m\u001b[38;5;124mH:\u001b[39m\u001b[38;5;124m%\u001b[39m\u001b[38;5;124mM\u001b[39m\u001b[38;5;124m\"\u001b[39m)\n\u001b[1;32m---> 12\u001b[0m sehiriftar\u001b[38;5;241m=\u001b[39m \u001b[43mtrabzon\u001b[49m\u001b[43m[\u001b[49m\u001b[43mdf\u001b[49m\u001b[43m[\u001b[49m\u001b[38;5;124;43m\"\u001b[39;49m\u001b[38;5;124;43mTarih\u001b[39;49m\u001b[38;5;124;43m\"\u001b[39;49m\u001b[43m]\u001b[49m\u001b[38;5;241;43m==\u001b[39;49m\u001b[43mbugun\u001b[49m\u001b[43m]\u001b[49m\u001b[43m[\u001b[49m\u001b[38;5;124;43m\"\u001b[39;49m\u001b[38;5;124;43mAKŞAM\u001b[39;49m\u001b[38;5;124;43m\"\u001b[39;49m\u001b[43m]\u001b[49m\u001b[38;5;241;43m.\u001b[39;49m\u001b[43mvalues\u001b[49m\u001b[43m[\u001b[49m\u001b[38;5;241;43m0\u001b[39;49m\u001b[43m]\u001b[49m\n\u001b[0;32m     13\u001b[0m kalan\u001b[38;5;241m=\u001b[39m pd\u001b[38;5;241m.\u001b[39mTimedelta(pd\u001b[38;5;241m.\u001b[39mto_datetime(sehiriftar)\u001b[38;5;241m-\u001b[39mpd\u001b[38;5;241m.\u001b[39mto_datetime(simdi))\n\u001b[0;32m     14\u001b[0m \u001b[38;5;28;01mreturn\u001b[39;00m kalan\n",
      "\u001b[1;31mIndexError\u001b[0m: index 0 is out of bounds for axis 0 with size 0"
     ]
    }
   ],
   "source": [
    "print(iftarKalan(\"Trabzon\").seconds/3600)"
   ]
  },
  {
   "cell_type": "code",
   "execution_count": null,
   "id": "4ad44d9d",
   "metadata": {},
   "outputs": [],
   "source": []
  }
 ],
 "metadata": {
  "kernelspec": {
   "display_name": "Python 3 (ipykernel)",
   "language": "python",
   "name": "python3"
  },
  "language_info": {
   "codemirror_mode": {
    "name": "ipython",
    "version": 3
   },
   "file_extension": ".py",
   "mimetype": "text/x-python",
   "name": "python",
   "nbconvert_exporter": "python",
   "pygments_lexer": "ipython3",
   "version": "3.10.9"
  }
 },
 "nbformat": 4,
 "nbformat_minor": 5
}

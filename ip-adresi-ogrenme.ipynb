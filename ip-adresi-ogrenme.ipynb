{
 "cells": [
  {
   "cell_type": "code",
   "execution_count": 1,
   "id": "32abfd48-d55a-489f-9b92-561198e0fc57",
   "metadata": {},
   "outputs": [],
   "source": [
    "import socket"
   ]
  },
  {
   "cell_type": "code",
   "execution_count": 2,
   "id": "919dcdb9-6c63-4329-83a7-399814e98dd7",
   "metadata": {},
   "outputs": [],
   "source": [
    "host= socket.gethostname()"
   ]
  },
  {
   "cell_type": "code",
   "execution_count": 3,
   "id": "ebf3978f-665e-4652-a367-4e1d3595e582",
   "metadata": {},
   "outputs": [
    {
     "data": {
      "text/plain": [
       "'DESKTOP-R7KQ9E5'"
      ]
     },
     "execution_count": 3,
     "metadata": {},
     "output_type": "execute_result"
    }
   ],
   "source": [
    "host"
   ]
  },
  {
   "cell_type": "code",
   "execution_count": 4,
   "id": "40ad5fcd-1173-4728-b62a-34a8382993b0",
   "metadata": {},
   "outputs": [],
   "source": [
    "ip=socket.gethostbyname(host)"
   ]
  },
  {
   "cell_type": "code",
   "execution_count": 5,
   "id": "a93f6e44-2112-41e2-8f61-8e2354c6fb22",
   "metadata": {},
   "outputs": [
    {
     "data": {
      "text/plain": [
       "'192.168.1.103'"
      ]
     },
     "execution_count": 5,
     "metadata": {},
     "output_type": "execute_result"
    }
   ],
   "source": [
    "ip"
   ]
  },
  {
   "cell_type": "code",
   "execution_count": null,
   "id": "353b0ccd-3cc8-4dac-b191-c954a30771e3",
   "metadata": {},
   "outputs": [],
   "source": []
  }
 ],
 "metadata": {
  "kernelspec": {
   "display_name": "Python 3 (ipykernel)",
   "language": "python",
   "name": "python3"
  },
  "language_info": {
   "codemirror_mode": {
    "name": "ipython",
    "version": 3
   },
   "file_extension": ".py",
   "mimetype": "text/x-python",
   "name": "python",
   "nbconvert_exporter": "python",
   "pygments_lexer": "ipython3",
   "version": "3.10.9"
  }
 },
 "nbformat": 4,
 "nbformat_minor": 5
}

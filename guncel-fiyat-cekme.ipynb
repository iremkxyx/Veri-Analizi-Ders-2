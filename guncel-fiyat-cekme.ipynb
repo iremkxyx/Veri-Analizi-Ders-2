{
 "cells": [
  {
   "cell_type": "code",
   "execution_count": 1,
   "id": "70063f77-c806-4d63-8f5f-d020fe380e39",
   "metadata": {},
   "outputs": [],
   "source": [
    "import yfinance as yf"
   ]
  },
  {
   "cell_type": "code",
   "execution_count": 2,
   "id": "c61d6997-74c3-4fbf-880a-5fa060605562",
   "metadata": {},
   "outputs": [
    {
     "data": {
      "text/plain": [
       "{'name': 'Bitcoin',\n",
       " 'startDate': 1278979200,\n",
       " 'description': 'Bitcoin (BTC) is a cryptocurrency launched in 2010. Users are able to generate BTC through the process of mining. Bitcoin has a current supply of 19,719,481. The last known price of Bitcoin is 54,394.41889768 USD and is down -5.76 over the last 24 hours. It is currently trading on 11592 active market(s) with $50,039,818,052.35 traded over the last 24 hours. More information can be found at https://bitcoin.org/.',\n",
       " 'maxAge': 86400,\n",
       " 'priceHint': 2,\n",
       " 'previousClose': 57022.81,\n",
       " 'open': 57022.81,\n",
       " 'dayLow': 53717.375,\n",
       " 'dayHigh': 57400.68,\n",
       " 'regularMarketPreviousClose': 57022.81,\n",
       " 'regularMarketOpen': 57022.81,\n",
       " 'regularMarketDayLow': 53717.375,\n",
       " 'regularMarketDayHigh': 57400.68,\n",
       " 'volume': 56043921408,\n",
       " 'regularMarketVolume': 56043921408,\n",
       " 'averageVolume': 28282284116,\n",
       " 'averageVolume10days': 24440426755,\n",
       " 'averageDailyVolume10Day': 24440426755,\n",
       " 'marketCap': 1113325043712,\n",
       " 'fiftyTwoWeekLow': 24930.297,\n",
       " 'fiftyTwoWeekHigh': 73750.07,\n",
       " 'fiftyDayAverage': 66211.83,\n",
       " 'twoHundredDayAverage': 58481.51,\n",
       " 'currency': 'USD',\n",
       " 'fromCurrency': 'BTC',\n",
       " 'toCurrency': 'USD=X',\n",
       " 'lastMarket': 'CoinMarketCap',\n",
       " 'coinMarketCapLink': 'https://coinmarketcap.com/currencies/bitcoin',\n",
       " 'volume24Hr': 56043921408,\n",
       " 'volumeAllCurrencies': 56043921408,\n",
       " 'circulatingSupply': 19719520,\n",
       " 'exchange': 'CCC',\n",
       " 'quoteType': 'CRYPTOCURRENCY',\n",
       " 'symbol': 'BTC-USD',\n",
       " 'underlyingSymbol': 'BTC-USD',\n",
       " 'shortName': 'Bitcoin USD',\n",
       " 'longName': 'Bitcoin USD',\n",
       " 'firstTradeDateEpochUtc': 1410912000,\n",
       " 'timeZoneFullName': 'UTC',\n",
       " 'timeZoneShortName': 'UTC',\n",
       " 'uuid': '74397779-1589-3270-8c45-b7f1a7345b3a',\n",
       " 'messageBoardId': 'finmb_BTC_CCC',\n",
       " 'trailingPegRatio': None}"
      ]
     },
     "execution_count": 2,
     "metadata": {},
     "output_type": "execute_result"
    }
   ],
   "source": [
    "btc=yf.Ticker(\"BTC-USD\")\n",
    "btc.info"
   ]
  },
  {
   "cell_type": "code",
   "execution_count": 4,
   "id": "21828ada-6ae9-401c-8f16-d177bbc6188d",
   "metadata": {},
   "outputs": [
    {
     "data": {
      "text/plain": [
       "53717.375"
      ]
     },
     "execution_count": 4,
     "metadata": {},
     "output_type": "execute_result"
    }
   ],
   "source": [
    "btc.info[\"dayLow\"]"
   ]
  },
  {
   "cell_type": "code",
   "execution_count": 8,
   "id": "e207a4b6-0714-41c1-b4ac-d2b713dc4cfc",
   "metadata": {},
   "outputs": [],
   "source": [
    "def fiyatgetir(para):\n",
    "    kur= yf.Ticker(para)\n",
    "    return kur.info[\"open\"]"
   ]
  },
  {
   "cell_type": "code",
   "execution_count": 9,
   "id": "ba51b32a-8eb5-4635-83b1-2fc5a8f50105",
   "metadata": {},
   "outputs": [
    {
     "data": {
      "text/plain": [
       "32.5678"
      ]
     },
     "execution_count": 9,
     "metadata": {},
     "output_type": "execute_result"
    }
   ],
   "source": [
    "fiyatgetir(\"TRY=X\")"
   ]
  },
  {
   "cell_type": "code",
   "execution_count": 7,
   "id": "8830cb58-bf3f-4767-b85d-6236b9f17320",
   "metadata": {},
   "outputs": [
    {
     "data": {
      "text/plain": [
       "{'maxAge': 86400,\n",
       " 'priceHint': 4,\n",
       " 'previousClose': 32.6213,\n",
       " 'open': 32.5678,\n",
       " 'dayLow': 32.532,\n",
       " 'dayHigh': 32.7769,\n",
       " 'regularMarketPreviousClose': 32.6213,\n",
       " 'regularMarketOpen': 32.5678,\n",
       " 'regularMarketDayLow': 32.532,\n",
       " 'regularMarketDayHigh': 32.7769,\n",
       " 'bid': 32.614,\n",
       " 'ask': 32.6203,\n",
       " 'fiftyTwoWeekLow': 25.2892,\n",
       " 'fiftyTwoWeekHigh': 33.7358,\n",
       " 'fiftyDayAverage': 32.421535,\n",
       " 'twoHundredDayAverage': 30.62526,\n",
       " 'currency': 'TRY',\n",
       " 'exchange': 'CCY',\n",
       " 'quoteType': 'CURRENCY',\n",
       " 'symbol': 'TRY=X',\n",
       " 'underlyingSymbol': 'TRY=X',\n",
       " 'shortName': 'USD/TRY',\n",
       " 'longName': 'USD/TRY',\n",
       " 'firstTradeDateEpochUtc': 1104710400,\n",
       " 'timeZoneFullName': 'Europe/London',\n",
       " 'timeZoneShortName': 'BST',\n",
       " 'uuid': '24630612-8161-35f4-b8e9-1c926e036384',\n",
       " 'messageBoardId': 'finmb_TRY_X',\n",
       " 'gmtOffSetMilliseconds': 3600000,\n",
       " 'trailingPegRatio': None}"
      ]
     },
     "execution_count": 7,
     "metadata": {},
     "output_type": "execute_result"
    }
   ],
   "source": [
    "tr=yf.Ticker(\"TRY=X\")\n",
    "tr.info"
   ]
  },
  {
   "cell_type": "code",
   "execution_count": 10,
   "id": "4af60877-2cb1-49a9-a935-b6611bd376ef",
   "metadata": {},
   "outputs": [
    {
     "data": {
      "text/plain": [
       "2365.8"
      ]
     },
     "execution_count": 10,
     "metadata": {},
     "output_type": "execute_result"
    }
   ],
   "source": [
    "fiyatgetir(\"GC=F\")"
   ]
  },
  {
   "cell_type": "code",
   "execution_count": null,
   "id": "a37c2e23-7e4e-4201-bc6f-718f018cb7be",
   "metadata": {},
   "outputs": [],
   "source": []
  },
  {
   "cell_type": "code",
   "execution_count": null,
   "id": "13a6ee6b-6a47-40e5-8c04-89ae623ffec2",
   "metadata": {},
   "outputs": [],
   "source": []
  }
 ],
 "metadata": {
  "kernelspec": {
   "display_name": "Python 3 (ipykernel)",
   "language": "python",
   "name": "python3"
  },
  "language_info": {
   "codemirror_mode": {
    "name": "ipython",
    "version": 3
   },
   "file_extension": ".py",
   "mimetype": "text/x-python",
   "name": "python",
   "nbconvert_exporter": "python",
   "pygments_lexer": "ipython3",
   "version": "3.10.9"
  }
 },
 "nbformat": 4,
 "nbformat_minor": 5
}

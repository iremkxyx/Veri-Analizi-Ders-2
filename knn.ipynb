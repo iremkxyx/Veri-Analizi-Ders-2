{
 "cells": [
  {
   "cell_type": "code",
   "execution_count": 4,
   "id": "5dc9ceaa",
   "metadata": {},
   "outputs": [
    {
     "name": "stdout",
     "output_type": "stream",
     "text": [
      "Doğruluk: 0.9590643274853801\n",
      "confusion matrix:\n",
      "[[ 59   4]\n",
      " [  3 105]]\n"
     ]
    },
    {
     "data": {
      "text/plain": [
       "'\\namacım modelin doğruluğunu artırmak\\n\\n    KNN: Hyperparameter: K\\n    K: 1, 2, 3... N\\n    Accuracy: %A, %B, %C ...\\n\\n'"
      ]
     },
     "execution_count": 4,
     "metadata": {},
     "output_type": "execute_result"
    }
   ],
   "source": [
    "\n",
    "# sklearn:ML Library\n",
    "\n",
    "from sklearn.datasets import load_breast_cancer\n",
    "from sklearn.neighbors import KNeighborsClassifier\n",
    "from sklearn.metrics import accuracy_score, confusion_matrix\n",
    "from sklearn.model_selection import train_test_split\n",
    "from sklearn.preprocessing import StandardScaler\n",
    "import pandas as pd\n",
    "\n",
    "\n",
    "# 1- Veri seti incelemesi\n",
    "\n",
    "cancer= load_breast_cancer()\n",
    "\n",
    "df= pd.DataFrame(data=cancer.data,columns=cancer.feature_names)\n",
    "\n",
    "df[\"target\"]=cancer.target\n",
    "\n",
    "# 2- Makine öğrenmesi modelinin seçilmesi-KNN sınıflandırıcı\n",
    "\n",
    "# 3- Modelin train edilmesi\n",
    "\n",
    "X= cancer.data    #features\n",
    "y= cancer.target  #target\n",
    "\n",
    "#train test split\n",
    "X_train,X_test,y_train,y_test= train_test_split(X,y,test_size=0.3,random_state=42)\n",
    "\n",
    "# ölçeklendirme -pre process işlemi\n",
    "scaler= StandardScaler()\n",
    "X_train= scaler.fit_transform(X_train)\n",
    "X_test= scaler.transform(X_test)\n",
    "\n",
    "\n",
    "knn=KNeighborsClassifier(n_neighbors=3)\n",
    "knn.fit(X_train,y_train) \n",
    "\n",
    "# 4- Sınuçların değerlendirilmesi:test\n",
    "\n",
    "y_pred= knn.predict(X_test)\n",
    "\n",
    "accuracy= accuracy_score(y_test, y_pred)\n",
    "print(\"Doğruluk:\",accuracy)\n",
    "\n",
    "conf_matrix= confusion_matrix(y_test, y_pred)\n",
    "print(\"confusion matrix:\")\n",
    "print(conf_matrix)\n",
    "\n",
    "\n",
    "# 5- Hiperparametre ayarlaması\n",
    "\n",
    "\"\"\"\n",
    "amacım modelin doğruluğunu artırmak\n",
    "\n",
    "    KNN: Hyperparameter: K\n",
    "    K: 1, 2, 3... N\n",
    "    Accuracy: %A, %B, %C ...\n",
    "\n",
    "\"\"\""
   ]
  },
  {
   "cell_type": "code",
   "execution_count": 7,
   "id": "57d0d62e",
   "metadata": {},
   "outputs": [
    {
     "name": "stdout",
     "output_type": "stream",
     "text": [
      "0.9590643274853801\n"
     ]
    }
   ],
   "source": [
    "k=3\n",
    "\n",
    "knn=KNeighborsClassifier(n_neighbors=k)\n",
    "knn.fit(X_train, y_train)\n",
    "y_pred= knn.predict(X_test)\n",
    "accuracy= accuracy_score(y_test,y_pred)\n",
    "print(accuracy)"
   ]
  },
  {
   "cell_type": "code",
   "execution_count": null,
   "id": "713e0ed7",
   "metadata": {},
   "outputs": [],
   "source": []
  }
 ],
 "metadata": {
  "kernelspec": {
   "display_name": "Python 3 (ipykernel)",
   "language": "python",
   "name": "python3"
  },
  "language_info": {
   "codemirror_mode": {
    "name": "ipython",
    "version": 3
   },
   "file_extension": ".py",
   "mimetype": "text/x-python",
   "name": "python",
   "nbconvert_exporter": "python",
   "pygments_lexer": "ipython3",
   "version": "3.10.9"
  }
 },
 "nbformat": 4,
 "nbformat_minor": 5
}
